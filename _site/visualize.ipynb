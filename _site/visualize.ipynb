{
 "cells": [
  {
   "cell_type": "code",
   "execution_count": 1,
   "metadata": {
    "collapsed": true
   },
   "outputs": [],
   "source": [
    "import matplotlib.pyplot as plt"
   ]
  },
  {
   "cell_type": "code",
   "execution_count": 2,
   "outputs": [],
   "source": [
    "import pandas as pd"
   ],
   "metadata": {
    "collapsed": false,
    "pycharm": {
     "name": "#%%\n"
    }
   }
  },
  {
   "cell_type": "code",
   "execution_count": 30,
   "outputs": [],
   "source": [
    "fileSummary = pd.read_csv(\"output/sumoSummary_01.csv\", sep=\";\")\n"
   ],
   "metadata": {
    "collapsed": false,
    "pycharm": {
     "name": "#%%\n"
    }
   }
  },
  {
   "cell_type": "code",
   "execution_count": 31,
   "outputs": [
    {
     "data": {
      "text/plain": "   step_arrived  step_collisions  step_duration  step_ended  step_halting  \\\n0             0                0  1623062866766           0             0   \n1             0                0  1623062866865           0             0   \n2             0                0  1623062866966           0             0   \n3             0                0  1623062867066           0             0   \n4             0                0  1623062867166           0             0   \n5             0                0  1623062867266           0             0   \n6             0                0  1623062867366           0             0   \n7             0                0  1623062867467           0             0   \n8             0                0  1623062867566           0             0   \n9             0                0  1623062867666           0             1   \n\n   step_inserted  step_loaded  step_meanSpeed  step_meanSpeedRelative  \\\n0              0            1           -1.00                   -1.00   \n1              1          139           29.45                    1.06   \n2              1          139           28.29                    1.02   \n3              2          139           26.40                    0.95   \n4              2          139           23.69                    0.85   \n5              3          139           23.94                    0.86   \n6              3          139           20.73                    0.75   \n7              3          139           16.46                    0.59   \n8              3          139           12.08                    0.43   \n9              3          139            8.45                    0.30   \n\n   step_meanTravelTime  step_meanWaitingTime  step_running  step_stopped  \\\n0                 -1.0                  -1.0             0             0   \n1                 -1.0                   1.0             1             0   \n2                 -1.0                   1.0             1             0   \n3                 -1.0                   1.0             2             0   \n4                 -1.0                   1.0             2             0   \n5                 -1.0                   1.0             3             0   \n6                 -1.0                   1.0             3             0   \n7                 -1.0                   1.0             3             0   \n8                 -1.0                   1.0             3             0   \n9                 -1.0                   1.0             3             0   \n\n   step_teleports  step_time  step_waiting  \n0               0        0.0             0  \n1               0        1.0             0  \n2               0        2.0             0  \n3               0        3.0             0  \n4               0        4.0             0  \n5               0        5.0             0  \n6               0        6.0             0  \n7               0        7.0             0  \n8               0        8.0             0  \n9               0        9.0             0  ",
      "text/html": "<div>\n<style scoped>\n    .dataframe tbody tr th:only-of-type {\n        vertical-align: middle;\n    }\n\n    .dataframe tbody tr th {\n        vertical-align: top;\n    }\n\n    .dataframe thead th {\n        text-align: right;\n    }\n</style>\n<table border=\"1\" class=\"dataframe\">\n  <thead>\n    <tr style=\"text-align: right;\">\n      <th></th>\n      <th>step_arrived</th>\n      <th>step_collisions</th>\n      <th>step_duration</th>\n      <th>step_ended</th>\n      <th>step_halting</th>\n      <th>step_inserted</th>\n      <th>step_loaded</th>\n      <th>step_meanSpeed</th>\n      <th>step_meanSpeedRelative</th>\n      <th>step_meanTravelTime</th>\n      <th>step_meanWaitingTime</th>\n      <th>step_running</th>\n      <th>step_stopped</th>\n      <th>step_teleports</th>\n      <th>step_time</th>\n      <th>step_waiting</th>\n    </tr>\n  </thead>\n  <tbody>\n    <tr>\n      <th>0</th>\n      <td>0</td>\n      <td>0</td>\n      <td>1623062866766</td>\n      <td>0</td>\n      <td>0</td>\n      <td>0</td>\n      <td>1</td>\n      <td>-1.00</td>\n      <td>-1.00</td>\n      <td>-1.0</td>\n      <td>-1.0</td>\n      <td>0</td>\n      <td>0</td>\n      <td>0</td>\n      <td>0.0</td>\n      <td>0</td>\n    </tr>\n    <tr>\n      <th>1</th>\n      <td>0</td>\n      <td>0</td>\n      <td>1623062866865</td>\n      <td>0</td>\n      <td>0</td>\n      <td>1</td>\n      <td>139</td>\n      <td>29.45</td>\n      <td>1.06</td>\n      <td>-1.0</td>\n      <td>1.0</td>\n      <td>1</td>\n      <td>0</td>\n      <td>0</td>\n      <td>1.0</td>\n      <td>0</td>\n    </tr>\n    <tr>\n      <th>2</th>\n      <td>0</td>\n      <td>0</td>\n      <td>1623062866966</td>\n      <td>0</td>\n      <td>0</td>\n      <td>1</td>\n      <td>139</td>\n      <td>28.29</td>\n      <td>1.02</td>\n      <td>-1.0</td>\n      <td>1.0</td>\n      <td>1</td>\n      <td>0</td>\n      <td>0</td>\n      <td>2.0</td>\n      <td>0</td>\n    </tr>\n    <tr>\n      <th>3</th>\n      <td>0</td>\n      <td>0</td>\n      <td>1623062867066</td>\n      <td>0</td>\n      <td>0</td>\n      <td>2</td>\n      <td>139</td>\n      <td>26.40</td>\n      <td>0.95</td>\n      <td>-1.0</td>\n      <td>1.0</td>\n      <td>2</td>\n      <td>0</td>\n      <td>0</td>\n      <td>3.0</td>\n      <td>0</td>\n    </tr>\n    <tr>\n      <th>4</th>\n      <td>0</td>\n      <td>0</td>\n      <td>1623062867166</td>\n      <td>0</td>\n      <td>0</td>\n      <td>2</td>\n      <td>139</td>\n      <td>23.69</td>\n      <td>0.85</td>\n      <td>-1.0</td>\n      <td>1.0</td>\n      <td>2</td>\n      <td>0</td>\n      <td>0</td>\n      <td>4.0</td>\n      <td>0</td>\n    </tr>\n    <tr>\n      <th>5</th>\n      <td>0</td>\n      <td>0</td>\n      <td>1623062867266</td>\n      <td>0</td>\n      <td>0</td>\n      <td>3</td>\n      <td>139</td>\n      <td>23.94</td>\n      <td>0.86</td>\n      <td>-1.0</td>\n      <td>1.0</td>\n      <td>3</td>\n      <td>0</td>\n      <td>0</td>\n      <td>5.0</td>\n      <td>0</td>\n    </tr>\n    <tr>\n      <th>6</th>\n      <td>0</td>\n      <td>0</td>\n      <td>1623062867366</td>\n      <td>0</td>\n      <td>0</td>\n      <td>3</td>\n      <td>139</td>\n      <td>20.73</td>\n      <td>0.75</td>\n      <td>-1.0</td>\n      <td>1.0</td>\n      <td>3</td>\n      <td>0</td>\n      <td>0</td>\n      <td>6.0</td>\n      <td>0</td>\n    </tr>\n    <tr>\n      <th>7</th>\n      <td>0</td>\n      <td>0</td>\n      <td>1623062867467</td>\n      <td>0</td>\n      <td>0</td>\n      <td>3</td>\n      <td>139</td>\n      <td>16.46</td>\n      <td>0.59</td>\n      <td>-1.0</td>\n      <td>1.0</td>\n      <td>3</td>\n      <td>0</td>\n      <td>0</td>\n      <td>7.0</td>\n      <td>0</td>\n    </tr>\n    <tr>\n      <th>8</th>\n      <td>0</td>\n      <td>0</td>\n      <td>1623062867566</td>\n      <td>0</td>\n      <td>0</td>\n      <td>3</td>\n      <td>139</td>\n      <td>12.08</td>\n      <td>0.43</td>\n      <td>-1.0</td>\n      <td>1.0</td>\n      <td>3</td>\n      <td>0</td>\n      <td>0</td>\n      <td>8.0</td>\n      <td>0</td>\n    </tr>\n    <tr>\n      <th>9</th>\n      <td>0</td>\n      <td>0</td>\n      <td>1623062867666</td>\n      <td>0</td>\n      <td>1</td>\n      <td>3</td>\n      <td>139</td>\n      <td>8.45</td>\n      <td>0.30</td>\n      <td>-1.0</td>\n      <td>1.0</td>\n      <td>3</td>\n      <td>0</td>\n      <td>0</td>\n      <td>9.0</td>\n      <td>0</td>\n    </tr>\n  </tbody>\n</table>\n</div>"
     },
     "execution_count": 31,
     "metadata": {},
     "output_type": "execute_result"
    }
   ],
   "source": [
    "fileSummary.head(10)"
   ],
   "metadata": {
    "collapsed": false,
    "pycharm": {
     "name": "#%%\n"
    }
   }
  },
  {
   "cell_type": "code",
   "execution_count": 32,
   "outputs": [],
   "source": [
    "X_step = fileSummary[\"step_time\"]\n",
    "Y_speed = fileSummary[\"step_meanSpeed\"]\n",
    "\n",
    "\n"
   ],
   "metadata": {
    "collapsed": false,
    "pycharm": {
     "name": "#%%\n"
    }
   }
  },
  {
   "cell_type": "code",
   "execution_count": 33,
   "outputs": [
    {
     "data": {
      "text/plain": "<Figure size 432x288 with 0 Axes>"
     },
     "metadata": {},
     "output_type": "display_data"
    }
   ],
   "source": [
    "fig = plt.figure()"
   ],
   "metadata": {
    "collapsed": false,
    "pycharm": {
     "name": "#%%\n"
    }
   }
  },
  {
   "cell_type": "code",
   "execution_count": 34,
   "outputs": [
    {
     "data": {
      "text/plain": "8.113903903903902"
     },
     "execution_count": 34,
     "metadata": {},
     "output_type": "execute_result"
    }
   ],
   "source": [
    "Y_speed.mean()"
   ],
   "metadata": {
    "collapsed": false,
    "pycharm": {
     "name": "#%%\n"
    }
   }
  },
  {
   "cell_type": "code",
   "execution_count": 8,
   "outputs": [
    {
     "data": {
      "text/plain": "[<matplotlib.lines.Line2D at 0x7f2a06258340>]"
     },
     "execution_count": 8,
     "metadata": {},
     "output_type": "execute_result"
    },
    {
     "data": {
      "text/plain": "<Figure size 432x288 with 1 Axes>",
      "image/png": "[encoded data removed]"
     },
     "metadata": {
      "needs_background": "light"
     },
     "output_type": "display_data"
    }
   ],
   "source": [
    "plt.plot(X_step, Y_speed, color=\"blue\", linewidth=1)"
   ],
   "metadata": {
    "collapsed": false,
    "pycharm": {
     "name": "#%%\n"
    }
   }
  },
  {
   "cell_type": "code",
   "execution_count": 7,
   "outputs": [],
   "source": [
    "plt.show()"
   ],
   "metadata": {
    "collapsed": false,
    "pycharm": {
     "name": "#%%\n"
    }
   }
  },
  {
   "cell_type": "code",
   "execution_count": 8,
   "outputs": [
    {
     "data": {
      "text/plain": "7.766525314829088"
     },
     "execution_count": 8,
     "metadata": {},
     "output_type": "execute_result"
    }
   ],
   "source": [
    "Y_speed.mean()"
   ],
   "metadata": {
    "collapsed": false,
    "pycharm": {
     "name": "#%%\n"
    }
   }
  }
 ],
 "metadata": {
  "kernelspec": {
   "display_name": "Python 3",
   "language": "python",
   "name": "python3"
  },
  "language_info": {
   "codemirror_mode": {
    "name": "ipython",
    "version": 2
   },
   "file_extension": ".py",
   "mimetype": "text/x-python",
   "name": "python",
   "nbconvert_exporter": "python",
   "pygments_lexer": "ipython2",
   "version": "2.7.6"
  }
 },
 "nbformat": 4,
 "nbformat_minor": 0
}